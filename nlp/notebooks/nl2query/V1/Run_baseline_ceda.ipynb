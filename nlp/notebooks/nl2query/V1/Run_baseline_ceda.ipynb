{
 "cells": [
  {
   "cell_type": "markdown",
   "metadata": {},
   "source": [
    "## Baseline pipeline - run on Ceda gold queries"
   ]
  },
  {
   "cell_type": "code",
   "execution_count": null,
   "metadata": {},
   "outputs": [],
   "source": [
    "path = \"/misc/data23-bs/DACCS/wp15/CEDA/gold/v2/\"\n",
    "qfile = \"ceda_gold_queries.json\"\n",
    "ofile = \"ceda_test_results.json\""
   ]
  },
  {
   "cell_type": "markdown",
   "metadata": {},
   "source": [
    "### Load baseline pipeline NL2Query"
   ]
  },
  {
   "cell_type": "code",
   "execution_count": null,
   "metadata": {},
   "outputs": [],
   "source": [
    "import json\n",
    "from V1_pipeline import V1_pipeline"
   ]
  },
  {
   "cell_type": "code",
   "execution_count": null,
   "metadata": {},
   "outputs": [],
   "source": [
    "config_file = \"combined_config.cfg\"\n",
    "# call my nl2query class\n",
    "my_instance = V1_pipeline(config_file)"
   ]
  },
  {
   "cell_type": "markdown",
   "metadata": {},
   "source": [
    "### Test the pipeline with a query"
   ]
  },
  {
   "cell_type": "code",
   "execution_count": null,
   "metadata": {},
   "outputs": [],
   "source": [
    "my_instance.transform_nl2query(\"sea water salinity in uk 1900\")"
   ]
  },
  {
   "cell_type": "markdown",
   "metadata": {},
   "source": [
    "### Run NL2Query on CEDA queries"
   ]
  },
  {
   "cell_type": "code",
   "execution_count": null,
   "metadata": {},
   "outputs": [],
   "source": [
    "struct_results = []\n",
    "with open(qfile, 'r') as f:\n",
    "    qs = json.load(f)\n",
    "    if 'queries' in qs.keys():\n",
    "        qlist = qs['queries']\n",
    "        # iterate over queries\n",
    "        for q in qlist:\n",
    "            print(q)\n",
    "            res = my_instance.transform_nl2query(q['query'])\n",
    "            print(res)\n",
    "            struct_results.append(res.to_dict())\n",
    "print(struct_results)    "
   ]
  },
  {
   "cell_type": "markdown",
   "metadata": {},
   "source": [
    "### Save predictions to file"
   ]
  },
  {
   "cell_type": "code",
   "execution_count": null,
   "metadata": {},
   "outputs": [],
   "source": [
    "with open(ofile, 'w') as f:\n",
    "    json.dump({'queries': struct_results}, f)"
   ]
  }
 ],
 "metadata": {
  "kernelspec": {
   "display_name": "daccs-nlp",
   "language": "python",
   "name": "daccs-nlp"
  },
  "language_info": {
   "codemirror_mode": {
    "name": "ipython",
    "version": 3
   },
   "file_extension": ".py",
   "mimetype": "text/x-python",
   "name": "python",
   "nbconvert_exporter": "python",
   "pygments_lexer": "ipython3",
   "version": "3.8.16"
  }
 },
 "nbformat": 4,
 "nbformat_minor": 4
}
