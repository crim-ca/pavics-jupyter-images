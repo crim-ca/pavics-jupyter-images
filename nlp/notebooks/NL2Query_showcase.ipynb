{
 "cells": [
  {
   "cell_type": "code",
   "execution_count": 29,
   "metadata": {},
   "outputs": [],
   "source": [
    "from pprint import pprint\n",
    "from NER_spacy import NER_spacy\n",
    "from NER_flair import NER_flair\n",
    "from TER_heideltime import TER_heideltime\n",
    "from Vars_values_textsearch import Vars_values_textsearch"
   ]
  },
  {
   "cell_type": "code",
   "execution_count": 1,
   "metadata": {},
   "outputs": [],
   "source": [
    "query = \"Sentinel-2 over Ottawa from april to september 2020 with cloud cover lower than 10%\""
   ]
  },
  {
   "cell_type": "code",
   "execution_count": 25,
   "metadata": {},
   "outputs": [
    {
     "name": "stdout",
     "output_type": "stream",
     "text": [
      "Initializing NER Spacy...\n",
      "\n",
      "NER Spacy detected:\n",
      "Ottawa 16 22 GPE\n",
      "april to september 2020 28 51 DATE\n",
      "Need a datestring parser to get the actual value. We don't know in what format the string date is!\n",
      "lower than 10 69 82 PERCENT\n",
      "Need a parser to detect operation! ex: less than -> lt. Default is 'eq'.\n",
      "\n",
      "Structured query: \n",
      "{'annotations': [{'matchingType': 'overlap',\n",
      "                  'name': 'Ottawa',\n",
      "                  'position': [16, 22],\n",
      "                  'text': 'Ottawa',\n",
      "                  'type': 'location',\n",
      "                  'value': {'coordinates': [[[-76.36311485399995,\n",
      "                                              44.94455157800007],\n",
      "                                             [-75.23249627099995,\n",
      "                                              45.544858986000065]]],\n",
      "                            'type': 'Polygon'}},\n",
      "                 {'position': [28, 51],\n",
      "                  'target': 'dataDate',\n",
      "                  'tempex_type': 'range',\n",
      "                  'text': 'april to september 2020',\n",
      "                  'type': 'tempex',\n",
      "                  'value': {}},\n",
      "                 {'name': '',\n",
      "                  'operation': 'eq',\n",
      "                  'position': [69, 82],\n",
      "                  'text': 'lower than 10',\n",
      "                  'type': 'property',\n",
      "                  'value': 10,\n",
      "                  'value_type': 'percentage'}],\n",
      " 'query': 'Sentinel-2 over Ottawa from april to september 2020 with cloud '\n",
      "          'cover lower than 10%'}\n"
     ]
    }
   ],
   "source": [
    "# try NER - Spacy\n",
    "# call my nl2query class\n",
    "print(\"Initializing NER Spacy...\")\n",
    "my_instance = NER_spacy()\n",
    "# get the structured query from the nl query\n",
    "print(\"\\nNER Spacy detected:\")\n",
    "structq = my_instance.transform_nl2query(query)\n",
    "print(\"\\nStructured query: \")\n",
    "pprint(structq.to_dict())"
   ]
  },
  {
   "cell_type": "code",
   "execution_count": 24,
   "metadata": {},
   "outputs": [
    {
     "name": "stdout",
     "output_type": "stream",
     "text": [
      "Initializing NER Flair...\n",
      "2021-07-05 12:03:57,831 --------------------------------------------------------------------------------\n",
      "2021-07-05 12:03:57,832 The model key 'ner-large' now maps to 'https://huggingface.co/flair/ner-english-large' on the HuggingFace ModelHub\n",
      "2021-07-05 12:03:57,834  - The most current version of the model is automatically downloaded from there.\n",
      "2021-07-05 12:03:57,835 --------------------------------------------------------------------------------\n",
      "2021-07-05 12:03:58,000 loading file /home/timea/.flair/models/ner-english-large/07301f59bb8cb113803be316267f06ddf9243cdbba92a4c8067ef92442d2c574.554244d3476d97501a766a98078421817b14654496b86f2f7bd139dc502a4f29\n",
      "\n",
      "NER Flair detected:\n",
      "{'text': 'Ottawa', 'start_pos': 16, 'end_pos': 22, 'labels': [LOC (1.0)]}\n",
      "\n",
      "Structured query: \n",
      "{'annotations': [{'matchingType': 'overlap',\n",
      "                  'name': 'Ottawa',\n",
      "                  'position': [16, 22],\n",
      "                  'text': 'Ottawa',\n",
      "                  'type': 'location',\n",
      "                  'value': {'coordinates': [[[-76.36311485399995,\n",
      "                                              44.94455157800007],\n",
      "                                             [-75.23249627099995,\n",
      "                                              45.544858986000065]]],\n",
      "                            'type': 'Polygon'}}],\n",
      " 'query': 'Sentinel-2 over Ottawa from april to september 2020 with cloud '\n",
      "          'cover lower than 10%'}\n"
     ]
    }
   ],
   "source": [
    "# try NER - Flair\n",
    "# call my nl2query class\n",
    "print(\"Initializing NER Flair...\")\n",
    "my_instance = NER_flair()\n",
    "# get the structured query from the nl query\n",
    "print(\"\\nNER Flair detected:\")\n",
    "structq = my_instance.transform_nl2query(query)\n",
    "print(\"\\nStructured query: \")\n",
    "pprint(structq.to_dict())"
   ]
  },
  {
   "cell_type": "code",
   "execution_count": 32,
   "metadata": {
    "scrolled": true
   },
   "outputs": [
    {
     "name": "stdout",
     "output_type": "stream",
     "text": [
      "Initializing TER Heideltime...\n",
      "Reading config file:  heideltime_config.cfg\n",
      "Heideltime returned:\n",
      " <?xml version=\"1.0\"?>\n",
      "<!DOCTYPE TimeML SYSTEM \"TimeML.dtd\">\n",
      "<TimeML>\n",
      "Sentinel-2 over Ottawa from <TIMEX3INTERVAL earliestBegin=\"2020-04-01T00:00:00\" latestBegin=\"2020-04-30T23:59:59\" earliestEnd=\"2020-09-01T00:00:00\" latestEnd=\"2020-09-30T23:59:59\"><TIMEX3 tid=\"t5\" type=\"DATE\" value=\"2020-04\">april</TIMEX3> to <TIMEX3 tid=\"t4\" type=\"DATE\" value=\"2020-09\">september 2020</TIMEX3></TIMEX3INTERVAL> with cloud cover lower than 10%\n",
      "</TimeML>\n",
      "\n",
      "\n",
      "april to september 2020 TIMEX3INTERVAL {'earliestBegin': '2020-04-01T00:00:00', 'latestBegin': '2020-04-30T23:59:59', 'earliestEnd': '2020-09-01T00:00:00', 'latestEnd': '2020-09-30T23:59:59'}\n",
      "april TIMEX3 {'tid': 't5', 'type': 'DATE', 'value': '2020-04'}\n",
      "september 2020 TIMEX3 {'tid': 't4', 'type': 'DATE', 'value': '2020-09'}\n",
      "\n",
      "Structured query: \n",
      "{'annotations': [{'position': [28, 51],\n",
      "                  'target': 'dataDate',\n",
      "                  'tempex_type': 'range',\n",
      "                  'text': 'april to september 2020',\n",
      "                  'type': 'tempex',\n",
      "                  'value': {'end': '2020-09-30T23:59:59Z',\n",
      "                            'start': '2020-04-01T00:00:00Z'}},\n",
      "                 {'position': [28, 33],\n",
      "                  'target': 'dataDate',\n",
      "                  'tempex_type': 'point',\n",
      "                  'text': 'april',\n",
      "                  'type': 'tempex',\n",
      "                  'value': ''},\n",
      "                 {'position': [37, 51],\n",
      "                  'target': 'dataDate',\n",
      "                  'tempex_type': 'point',\n",
      "                  'text': 'september 2020',\n",
      "                  'type': 'tempex',\n",
      "                  'value': ''}],\n",
      " 'query': 'Sentinel-2 over Ottawa from april to september 2020 with cloud '\n",
      "          'cover lower than 10%'}\n"
     ]
    }
   ],
   "source": [
    "# try TER - Heideltime\n",
    "# call my nl2query class\n",
    "print(\"Initializing TER Heideltime...\")\n",
    "my_instance = TER_heideltime('heideltime_config.cfg')\n",
    "# get the structured query from the nl query\n",
    "structq = my_instance.transform_nl2query(query)\n",
    "print(\"\\nStructured query: \")\n",
    "pprint(structq.to_dict())"
   ]
  },
  {
   "cell_type": "code",
   "execution_count": 30,
   "metadata": {},
   "outputs": [
    {
     "name": "stdout",
     "output_type": "stream",
     "text": [
      "Initializing Vars-values Textsearch...\n",
      "Reading config file:  varval_config.cfg\n",
      "Adding to textsearch engine vocabulary words for:  cmip6\n",
      "Adding to textsearch engine vocabulary words for:  peps\n",
      "Adding to textsearch engine vocabulary words for:  copernicus\n",
      "Adding to textsearch engine vocabulary words for:  paviccs\n",
      "Adding to textsearch engine vocabulary words for:  cf_standard_names\n",
      "Vocabularies successfully added to textsearch engine!\n",
      "\n",
      "Textsearch detected:\n",
      "Searching vocabulary words...\n",
      "TSResult(match='I', norm='I', start=0, end=1, case='upper', is_exact=False)\n",
      "TSResult(match='CMIP6', norm='CMIP6', start=79, end=84, case='upper', is_exact=False)\n",
      "TSResult(match='ScenarioMIP', norm='ScenarioMIP', start=105, end=116, case='mixed', is_exact=False)\n",
      "TSResult(match='CO2', norm='co2', start=11, end=14, case='upper', is_exact=False)\n",
      "TSResult(match='total canopy water storage', norm='Total Canopy Water Storage', start=34, end=60, case='lower', is_exact=False)\n",
      "TSResult(match='cell area', norm='cell area', start=92, end=101, case='lower', is_exact=False)\n",
      "\n",
      "Structured query: \n",
      "{'annotations': [{'name': None,\n",
      "                  'operation': 'eq',\n",
      "                  'position': [0, 1],\n",
      "                  'text': 'I',\n",
      "                  'type': 'property',\n",
      "                  'value': 'I',\n",
      "                  'value_type': 'string'},\n",
      "                 {'name': 'mip era',\n",
      "                  'operation': 'eq',\n",
      "                  'position': [79, 84],\n",
      "                  'text': 'CMIP6',\n",
      "                  'type': 'property',\n",
      "                  'value': 'CMIP6',\n",
      "                  'value_type': 'string'},\n",
      "                 {'name': 'activity id',\n",
      "                  'operation': 'eq',\n",
      "                  'position': [105, 116],\n",
      "                  'text': 'ScenarioMIP',\n",
      "                  'type': 'property',\n",
      "                  'value': 'ScenarioMIP',\n",
      "                  'value_type': 'string'},\n",
      "                 {'name': [],\n",
      "                  'position': [11, 14],\n",
      "                  'text': 'CO2',\n",
      "                  'type': 'target'},\n",
      "                 {'name': ['cw'],\n",
      "                  'position': [34, 60],\n",
      "                  'text': 'total canopy water storage',\n",
      "                  'type': 'target'},\n",
      "                 {'name': ['areacellg',\n",
      "                           'areacella',\n",
      "                           'areacellr',\n",
      "                           'modelCellAreai',\n",
      "                           'areacello'],\n",
      "                  'position': [92, 101],\n",
      "                  'text': 'cell area',\n",
      "                  'type': 'target'}],\n",
      " 'query': 'I want the CO2 concentrations and total canopy water storage used '\n",
      "          'to force the CMIP6 models cell area in ScenarioMIP'}\n"
     ]
    }
   ],
   "source": [
    "# try variables and values search\n",
    "print(\"Initializing Vars-values Textsearch...\")\n",
    "myvarval = Vars_values_textsearch(\"varval_config.cfg\")\n",
    "# change the query to more climate-specific vocabulary\n",
    "nlquery = \"I want the CO2 concentrations and total canopy water storage \" \\\n",
    "          \"used to force the CMIP6 models cell area in ScenarioMIP\"\n",
    "print(\"\\nTextsearch detected:\")\n",
    "structq = myvarval.transform_nl2query(nlquery)\n",
    "print(\"\\nStructured query: \")\n",
    "pprint(structq.to_dict())"
   ]
  },
  {
   "cell_type": "code",
   "execution_count": null,
   "metadata": {},
   "outputs": [],
   "source": []
  }
 ],
 "metadata": {
  "kernelspec": {
   "display_name": "DACCS NLP",
   "language": "python",
   "name": "daccs-nlp"
  },
  "language_info": {
   "codemirror_mode": {
    "name": "ipython",
    "version": 3
   },
   "file_extension": ".py",
   "mimetype": "text/x-python",
   "name": "python",
   "nbconvert_exporter": "python",
   "pygments_lexer": "ipython3",
   "version": "3.9.5"
  }
 },
 "nbformat": 4,
 "nbformat_minor": 4
}
