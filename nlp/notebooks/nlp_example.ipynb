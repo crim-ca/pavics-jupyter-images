{
 "cells": [
  {
   "cell_type": "markdown",
   "id": "framed-intranet",
   "metadata": {},
   "source": [
    "## Example notebook\n",
    "\n",
    "This is an example notebook for the image's first version. \n",
    "It is used for now to test the integration of the tutorial notebooks in JupyterHub, depending of which environment is selected. \n",
    "Additional notebooks should be added in the future."
   ]
  },
  {
   "cell_type": "code",
   "execution_count": null,
   "id": "imposed-serve",
   "metadata": {},
   "outputs": [],
   "source": []
  }
 ],
 "metadata": {
  "kernelspec": {
   "display_name": "Python 3",
   "language": "python",
   "name": "python3"
  },
  "language_info": {
   "codemirror_mode": {
    "name": "ipython",
    "version": 3
   },
   "file_extension": ".py",
   "mimetype": "text/x-python",
   "name": "python",
   "nbconvert_exporter": "python",
   "pygments_lexer": "ipython3",
   "version": "3.8.5"
  }
 },
 "nbformat": 4,
 "nbformat_minor": 5
}
