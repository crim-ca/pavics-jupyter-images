{
 "cells": [
  {
   "cell_type": "markdown",
   "metadata": {},
   "source": [
    "# Catalog connectors\n",
    "\n",
    "\n",
    "This notebook tests some connectors to different catalogs andshows the way to execute a request through their Python API. \n",
    "- PEPS  \n",
    "- Copernicus\n",
    "- PAVICS\n",
    "\n"
   ]
  },
  {
   "cell_type": "code",
   "execution_count": null,
   "metadata": {},
   "outputs": [],
   "source": [
    "# Uncomment and run this cell if birdy is not installed\n",
    "# !pip install birdhouse-birdy"
   ]
  },
  {
   "cell_type": "code",
   "execution_count": null,
   "metadata": {},
   "outputs": [],
   "source": [
    "# all imports for this notebook\n",
    "import json\n",
    "import requests\n",
    "import os\n",
    "import xml.etree.ElementTree as ET\n",
    "from birdy import WPSClient"
   ]
  },
  {
   "cell_type": "code",
   "execution_count": null,
   "metadata": {},
   "outputs": [],
   "source": [
    "# read config file first\n",
    "with open('config.json', 'r', encoding=\"utf-8\") as f:\n",
    "    config = json.load(f)\n",
    "print(config)"
   ]
  },
  {
   "cell_type": "markdown",
   "metadata": {
    "colab_type": "text",
    "id": "UVfiH-IZfoZ9"
   },
   "source": [
    "# Connecteur API PEPS\n",
    "\n",
    "Reference: https://peps.cnes.fr/rocket/plus/img/PEPS-IF-0-0170-ATOS_01_00_[2].pdf\n",
    " (pages 8-11)\n",
    "\n",
    "Example:\n",
    "\"recherche de produits **S2ST** avec un identifiant **MGRS** égal à **31TCJ** et avec une **couverture nuageuse** comprise entre **10% et 70%**\":\n",
    "\n",
    "https://peps.cnes.fr/resto/api/collections/S2ST/search.json?tileid=31TCJ&cloudCover=[10,70]\n",
    "\n",
    "\n",
    "The list of search criteria and available values for each of the criteria is available at the following addresses  :\n",
    "- Opensearch descriptors for collection [Sentinel 1](https://peps.cnes.fr/resto/api/collections/S1/describe.xml)\n",
    "- Opensearch descriptors for collection [Sentinel 2](https://peps.cnes.fr/resto/api/collections/S2/describe.xml)\n",
    "- Opensearch descriptors for collection [Sentinel 2 tuilés](https://peps.cnes.fr/resto/api/collections/S2ST/describe.xml)\n",
    "- Opensearch descriptors fora collection [Sentinel 3](https://peps.cnes.fr/resto/api/collections/S3/describe.xml)\n"
   ]
  },
  {
   "cell_type": "code",
   "execution_count": null,
   "metadata": {
    "colab": {},
    "colab_type": "code",
    "id": "8DCpkhyngKiI"
   },
   "outputs": [],
   "source": [
    "parameters = {\n",
    "    'tileid' : \"31TCJ\",\n",
    "    'cloudCover' : '[10,70]'\n",
    "}\n",
    "collection = \"S2ST\"\n",
    "out_format = \"json\""
   ]
  },
  {
   "cell_type": "code",
   "execution_count": null,
   "metadata": {
    "colab": {
     "base_uri": "https://localhost:8080/",
     "height": 36
    },
    "colab_type": "code",
    "id": "-mBlLeddnbLm",
    "outputId": "02e57732-576a-4d9d-f469-dffa9050b79f"
   },
   "outputs": [],
   "source": [
    "# construct the search URL\n",
    "def PEPS_search_url(parameters, collection, out_format):\n",
    "    search_URL = config['PEPS_url']\n",
    "    if collection in config['PEPS_collections'] :\n",
    "      search_URL += collection +\"/\"\n",
    "    if out_format in config['PEPS_formats']:\n",
    "      search_URL += \"search.\" + out_format\n",
    "    # add any parameters\n",
    "    for key in parameters:\n",
    "      search_URL += \"&\" + key + \"=\" + str(parameters[key])\n",
    "    # replace first & with ?\n",
    "    search_URL = search_URL.replace(\"&\", \"?\", 1)\n",
    "    return search_URL"
   ]
  },
  {
   "cell_type": "code",
   "execution_count": null,
   "metadata": {},
   "outputs": [],
   "source": [
    "search_PEPS = PEPS_search_url(parameters, collection, out_format)\n",
    "print(search_PEPS)"
   ]
  },
  {
   "cell_type": "markdown",
   "metadata": {
    "colab_type": "text",
    "id": "FrZnpx6tlOMi"
   },
   "source": [
    "Save the query result as a json dictionary"
   ]
  },
  {
   "cell_type": "code",
   "execution_count": null,
   "metadata": {},
   "outputs": [],
   "source": [
    "req = requests.get(search_PEPS, allow_redirects=True)\n",
    "out_peps = req.json()\n",
    "\n",
    "print(\"Keys of the json file: \")\n",
    "for key in out_peps.keys():\n",
    "    print(\"\\t\"+key)\n",
    "print(\"Total nr of results: \", out_peps['properties']['totalResults'])\n",
    "print(\"Nr of results on this page: \",len(out_peps['features']))\n",
    "print(\"First result: \", out_peps['features'][0])"
   ]
  },
  {
   "cell_type": "code",
   "execution_count": null,
   "metadata": {
    "colab": {
     "base_uri": "https://localhost:8080/",
     "height": 35
    },
    "colab_type": "code",
    "id": "qcryktKHeJvf",
    "outputId": "9e3b6343-7139-4acb-9c80-ced92697e178"
   },
   "outputs": [],
   "source": [
    "# get next page's results\n",
    "def get_next(result):\n",
    "    for links in result['properties']['links']:\n",
    "        if links['rel'] == 'self':\n",
    "            this_page = links['href']\n",
    "        if links['rel'] == 'next':\n",
    "            next_page = links['href']\n",
    "        if links['rel'] == 'last':\n",
    "            last_page = links['href']\n",
    "    print(\"Next: \", next_page)\n",
    "    if this_page != last_page:\n",
    "        return next_page\n",
    "    else :\n",
    "        print(\"Last: \", last_page)\n",
    "        return None\n",
    "        \n",
    "get_next(out_peps)"
   ]
  },
  {
   "cell_type": "code",
   "execution_count": null,
   "metadata": {},
   "outputs": [],
   "source": [
    "def get_all_peps_results(url):\n",
    "    all_results = []\n",
    "    req = requests.get(url, allow_redirects=True)\n",
    "    out_peps = req.json()\n",
    "    for feat in out_peps['features']:\n",
    "        print(feat['properties']['productIdentifier'])\n",
    "        all_results += feat\n",
    "    req_peps = get_next(out_peps)\n",
    "    while(req_peps):\n",
    "        req = requests.get(req_peps, allow_redirects=True)\n",
    "        out_peps = req.json()\n",
    "        for feat in out_peps['features']:\n",
    "            print(feat['properties']['productIdentifier'])\n",
    "            all_results += feat\n",
    "        req_peps = get_next(out_peps)\n",
    "    return all_results\n",
    "        \n",
    "print(search_PEPS)      \n",
    "peps_results = get_all_peps_results(search_PEPS)\n",
    "print(\"Total results: \", len(peps_results))"
   ]
  },
  {
   "cell_type": "markdown",
   "metadata": {
    "colab_type": "text",
    "id": "agF8BbMMVdon"
   },
   "source": [
    "# Connecteur COPERNICUS\n",
    "Description: https://scihub.copernicus.eu/userguide/OpenSearchAPI"
   ]
  },
  {
   "cell_type": "code",
   "execution_count": null,
   "metadata": {
    "colab": {
     "base_uri": "https://localhost:8080/",
     "height": 36
    },
    "colab_type": "code",
    "id": "CK4Ch1J4Vitu",
    "outputId": "dbefc627-0dcc-44b4-9921-4788e7f62469"
   },
   "outputs": [],
   "source": [
    "q = \"footprint:\\\"Intersects(41.9000, 12.5000)\\\"\"\n",
    "search_COP = config['COP_url'] + q\n",
    "search_COP"
   ]
  },
  {
   "cell_type": "code",
   "execution_count": null,
   "metadata": {
    "colab": {
     "base_uri": "https://localhost:8080/",
     "height": 35
    },
    "colab_type": "code",
    "id": "B1mJDrJle96O",
    "outputId": "43e5ab03-c53d-4b5a-e5af-74c8a4c06b88"
   },
   "outputs": [],
   "source": [
    "r = requests.get(search_COP, allow_redirects=True, \n",
    "                 auth=(\"samuel.foucher\", \"2Wsx3edc\"))\n",
    "outfile = 'out_cop.xml'\n",
    "if r.status_code == 200 and r.content:\n",
    "    open(outfile, 'wb').write(r.content)\n",
    "    print(outfile + \" written.\")\n",
    "else:\n",
    "    print(\"Search request to Copernicus platform unsuccessful. Check credentials!\")"
   ]
  },
  {
   "cell_type": "code",
   "execution_count": null,
   "metadata": {},
   "outputs": [],
   "source": [
    "#make sure out_cop.xml is there\n",
    "if os.path.exists(outfile):\n",
    "    # parse contents\n",
    "    tree = ET.parse(outfile)\n",
    "    root = tree.getroot()\n",
    "    for child in root:\n",
    "        print(child.tag, child.attrib, child.text)\n",
    "        for gchild in child:\n",
    "              print(\"\\t\", gchild.tag, gchild.attrib, gchild.text)"
   ]
  },
  {
   "cell_type": "markdown",
   "metadata": {
    "colab_type": "text",
    "id": "-ACrU_jkfnd4"
   },
   "source": [
    "# Connecteur PAVICS\n"
   ]
  },
  {
   "cell_type": "code",
   "execution_count": null,
   "metadata": {
    "colab": {
     "base_uri": "https://localhost:8080/",
     "height": 723
    },
    "colab_type": "code",
    "id": "I4KCTjhOf7IZ",
    "outputId": "f1342f3b-44f4-4387-948b-9f88db97dcce"
   },
   "outputs": [],
   "source": [
    "wps = WPSClient(config['PAVICS_url'])\n",
    "help(wps.pavicsearch)"
   ]
  },
  {
   "cell_type": "code",
   "execution_count": null,
   "metadata": {
    "colab": {},
    "colab_type": "code",
    "id": "UYQ6nK1UhJBF"
   },
   "outputs": [],
   "source": [
    "params = \"variable:tasmin,project:CMIP5,experiment:rcp85,frequency:day,institute:CCCma,model:CanESM2\""
   ]
  },
  {
   "cell_type": "code",
   "execution_count": null,
   "metadata": {
    "colab": {
     "base_uri": "https://localhost:8080/",
     "height": 193
    },
    "colab_type": "code",
    "id": "RoKczarUg9nE",
    "outputId": "7e8177e9-5266-4154-f04d-ece56ba71d8b"
   },
   "outputs": [],
   "source": [
    "resp = wps.pavicsearch(constraints=params, limit=10, type=\"File\")\n",
    "[result, files] = resp.get(asobj=True)\n",
    "files"
   ]
  },
  {
   "cell_type": "code",
   "execution_count": null,
   "metadata": {},
   "outputs": [],
   "source": []
  }
 ],
 "metadata": {
  "colab": {
   "name": "DACCS_connecteurs_externes.ipynb",
   "provenance": []
  },
  "kernelspec": {
   "display_name": "Python 3 (ipykernel)",
   "language": "python",
   "name": "python3"
  },
  "language_info": {
   "codemirror_mode": {
    "name": "ipython",
    "version": 3
   },
   "file_extension": ".py",
   "mimetype": "text/x-python",
   "name": "python",
   "nbconvert_exporter": "python",
   "pygments_lexer": "ipython3",
   "version": "3.7.11"
  }
 },
 "nbformat": 4,
 "nbformat_minor": 1
}
