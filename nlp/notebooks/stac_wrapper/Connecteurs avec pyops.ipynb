{
 "cells": [
  {
   "cell_type": "code",
   "execution_count": null,
   "metadata": {},
   "outputs": [],
   "source": [
    "!pip install pyops"
   ]
  },
  {
   "cell_type": "code",
   "execution_count": null,
   "metadata": {},
   "outputs": [],
   "source": [
    "import pyops\n",
    "import logging\n",
    "import json"
   ]
  },
  {
   "cell_type": "code",
   "execution_count": null,
   "metadata": {},
   "outputs": [],
   "source": [
    "# read config file first\n",
    "with open('config.json', 'r') as f:\n",
    "    config = json.load(f)\n",
    "print(config)"
   ]
  },
  {
   "cell_type": "markdown",
   "metadata": {},
   "source": [
    "# PEPS\n",
    "Les descripteurs Opensearch de PEPS sont:\n",
    "\"https://peps.cnes.fr/resto/api/collections/{collection}/describe.xml\""
   ]
  },
  {
   "cell_type": "code",
   "execution_count": null,
   "metadata": {},
   "outputs": [],
   "source": [
    "parameters = {\n",
    "    'resto_tileid' :  \"31TCJ\" #,\n",
    "   # '{eo:cloudCover}' : {\"value\": '[10,70]'}\n",
    "}\n",
    "collection = \"S2ST\""
   ]
  },
  {
   "cell_type": "code",
   "execution_count": null,
   "metadata": {},
   "outputs": [],
   "source": [
    "def PEPS_descr_url(collection):\n",
    "    descr_URL = config['PEPS_url']\n",
    "    if collection in config['PEPS_collections']:\n",
    "      descr_URL += collection\n",
    "    descr_URL += \"/describe.xml\"\n",
    "    return descr_URL"
   ]
  },
  {
   "cell_type": "code",
   "execution_count": null,
   "metadata": {},
   "outputs": [],
   "source": [
    "descr_PEPS = PEPS_descr_url(collection)\n",
    "print(descr_PEPS)"
   ]
  },
  {
   "cell_type": "code",
   "execution_count": null,
   "metadata": {},
   "outputs": [],
   "source": [
    "logging.basicConfig(filename='example.log',level=logging.INFO)\n",
    "# Client params\n",
    "# specify either search_endpoint or description_xml_url\n",
    "# type = 'collection' or 'results'\n",
    "client = pyops.Client(description_xml_url=descr_PEPS, type='collection')\n",
    "# search params: force_HTTPS=True, params={}, auth=()\n"
   ]
  },
  {
   "cell_type": "code",
   "execution_count": null,
   "metadata": {},
   "outputs": [],
   "source": [
    "# dir(client)"
   ]
  },
  {
   "cell_type": "code",
   "execution_count": null,
   "metadata": {},
   "outputs": [],
   "source": [
    "client.search_params"
   ]
  },
  {
   "cell_type": "code",
   "execution_count": null,
   "metadata": {},
   "outputs": [],
   "source": [
    "client.search_param_names"
   ]
  },
  {
   "cell_type": "code",
   "execution_count": null,
   "metadata": {},
   "outputs": [],
   "source": [
    "client = pyops.Client(description_xml_url=descr_PEPS, type='collection')\n",
    "\n",
    "param_names = client.search_param_names\n",
    "params = client.search_params\n",
    "input_params = {}\n",
    "\n",
    "form_fields = {\"tileid\":  \"31TCJ\", \"page\": \"1\", 'maxRecords': '50', 'cloudCover': '[10,70]'}\n",
    "for ff in form_fields:\n",
    "    value = form_fields[ff]\n",
    "    if value and ff in param_names:\n",
    "        print(params[param_names[ff]][\"full_tag\"])\n",
    "        input_params[params[param_names[ff]][\"full_tag\"]] = {\"value\": value}\n",
    "\n",
    "# Get Raw Results\n",
    "raw_results = client.search(params=input_params)\n",
    "print(\"total number of results:\", client.pagination['total_results'])\n",
    "print(\"last page:\", client.pagination['last'] )\n",
    "form_fields = client.pagination['next']\n",
    "while True:\n",
    "    print(form_fields)\n",
    "    for ff in form_fields:\n",
    "        value = form_fields[ff]\n",
    "        if value and ff in param_names:\n",
    "            input_params[params[param_names[ff]][\"full_tag\"]] = {\"value\": value}\n",
    "    client = pyops.Client(description_xml_url=descr_PEPS, type='collection')\n",
    "    new_raw_results = client.search(params=input_params)\n",
    "    print(len(new_raw_results))\n",
    "    assert raw_results[0] != new_raw_results[0]\n",
    "    raw_results = new_raw_results\n",
    "    print(\"last page\", client.pagination['last'] )\n",
    "    \n",
    "    if form_fields == client.pagination['last'] :\n",
    "        break\n",
    "    form_fields = client.pagination['next']\n",
    "    input_params = {}\n",
    "\n",
    "print(raw_results)\n"
   ]
  },
  {
   "cell_type": "code",
   "execution_count": null,
   "metadata": {},
   "outputs": [],
   "source": [
    "entry_fields = client.get_available_fields()\n",
    "filtered_results = client.filter_entries([{\n",
    "    \"tag\": \"{http://www.w3.org/2005/Atom}title\",\n",
    "    \"name\": \"title\"}, {\n",
    "    \"tag\": \"{http://www.w3.org/2005/Atom}summary\",\n",
    "    \"name\": \"summary\"}])\n",
    "for results in filtered_results:\n",
    "    for res in results:\n",
    "        print(res)"
   ]
  },
  {
   "cell_type": "code",
   "execution_count": null,
   "metadata": {},
   "outputs": [],
   "source": []
  }
 ],
 "metadata": {
  "kernelspec": {
   "display_name": "Python 3",
   "language": "python",
   "name": "python3"
  },
  "language_info": {
   "codemirror_mode": {
    "name": "ipython",
    "version": 3
   },
   "file_extension": ".py",
   "mimetype": "text/x-python",
   "name": "python",
   "nbconvert_exporter": "python",
   "pygments_lexer": "ipython3",
   "version": "3.8.5"
  }
 },
 "nbformat": 4,
 "nbformat_minor": 4
}
