{
 "cells": [
  {
   "cell_type": "markdown",
   "metadata": {},
   "source": [
    "# Test of Intake connector on an example catalog"
   ]
  },
  {
   "cell_type": "code",
   "execution_count": 6,
   "metadata": {},
   "outputs": [],
   "source": [
    "# all imports for this notebook\n",
    "import intake\n",
    "import satsearch\n",
    "from satstac import ItemCollection\n",
    "from lxml import objectify, etree"
   ]
  },
  {
   "cell_type": "markdown",
   "metadata": {},
   "source": [
    "## Landsat-8 example catalog"
   ]
  },
  {
   "cell_type": "code",
   "execution_count": 7,
   "metadata": {},
   "outputs": [
    {
     "data": {
      "text/plain": [
       "['stac-catalog-eo']"
      ]
     },
     "execution_count": 7,
     "metadata": {},
     "output_type": "execute_result"
    }
   ],
   "source": [
    "landsat8_url = \"https://raw.githubusercontent.com/sat-utils/sat-stac/master/test/catalog/catalog.json\"\n",
    "cat = intake.open_stac_catalog(landsat8_url)\n",
    "list(cat)"
   ]
  },
  {
   "cell_type": "markdown",
   "metadata": {},
   "source": [
    "### Retrieve catalog metadata"
   ]
  },
  {
   "cell_type": "code",
   "execution_count": 8,
   "metadata": {},
   "outputs": [
    {
     "data": {
      "text/plain": [
       "{'id': 'stac-catalog',\n",
       " 'description': 'An example STAC catalog',\n",
       " 'stac_version': '1.0.0-beta.1'}"
      ]
     },
     "execution_count": 8,
     "metadata": {},
     "output_type": "execute_result"
    }
   ],
   "source": [
    "cat.metadata"
   ]
  },
  {
   "cell_type": "markdown",
   "metadata": {},
   "source": [
    "### List sub-catalogs"
   ]
  },
  {
   "cell_type": "code",
   "execution_count": 9,
   "metadata": {},
   "outputs": [
    {
     "data": {
      "text/plain": [
       "['sentinel-s2-l1c', 'landsat-8-l1']"
      ]
     },
     "execution_count": 9,
     "metadata": {},
     "output_type": "execute_result"
    }
   ],
   "source": [
    "list(cat['stac-catalog-eo'])"
   ]
  },
  {
   "cell_type": "markdown",
   "metadata": {},
   "source": [
    "### Retrieve collections"
   ]
  },
  {
   "cell_type": "code",
   "execution_count": 10,
   "metadata": {},
   "outputs": [
    {
     "data": {
      "text/plain": [
       "['LC08_L1TP_152038_20200611_20200611_01_RT']"
      ]
     },
     "execution_count": 10,
     "metadata": {},
     "output_type": "execute_result"
    }
   ],
   "source": [
    "ls8 = cat['stac-catalog-eo']['landsat-8-l1']\n",
    "list(ls8)"
   ]
  },
  {
   "cell_type": "markdown",
   "metadata": {},
   "source": [
    "### Retrieve one item"
   ]
  },
  {
   "cell_type": "code",
   "execution_count": 11,
   "metadata": {},
   "outputs": [
    {
     "data": {
      "text/plain": [
       "['ANG',\n",
       " 'B1',\n",
       " 'B2',\n",
       " 'B3',\n",
       " 'B4',\n",
       " 'B5',\n",
       " 'B6',\n",
       " 'B7',\n",
       " 'B8',\n",
       " 'B9',\n",
       " 'B10',\n",
       " 'B11',\n",
       " 'BQA',\n",
       " 'MTL',\n",
       " 'thumbnail',\n",
       " 'index']"
      ]
     },
     "execution_count": 11,
     "metadata": {},
     "output_type": "execute_result"
    }
   ],
   "source": [
    "ls8_item = ls8['LC08_L1TP_152038_20200611_20200611_01_RT']\n",
    "list(ls8_item)"
   ]
  },
  {
   "cell_type": "markdown",
   "metadata": {},
   "source": [
    "### Retrieve item metadata"
   ]
  },
  {
   "cell_type": "code",
   "execution_count": 12,
   "metadata": {},
   "outputs": [
    {
     "data": {
      "text/plain": [
       "{'datetime': datetime.datetime(2020, 6, 11, 5, 54, 44, 650000, tzinfo=tzutc()),\n",
       " 'gsd': 30,\n",
       " 'platform': 'landsat-8',\n",
       " 'instruments': ['oli', 'tirs'],\n",
       " 'eo:cloud_cover': 6,\n",
       " 'view:off_nadir': 0,\n",
       " 'view:azimuth': 0,\n",
       " 'view:sun_azimuth': 108.63187979,\n",
       " 'view:sun_elevation': 68.84430949,\n",
       " 'landsat:path': 107,\n",
       " 'landsat:row': 18,\n",
       " 'landsat:earth_sun_distance': 1.014156,\n",
       " 'landsat:ground_control_points_verify': 114,\n",
       " 'landsat:geometric_rmse_model': 7.562,\n",
       " 'landsat:image_quality_tirs': 9,\n",
       " 'landsat:ground_control_points_model': 313,\n",
       " 'landsat:geometric_rmse_model_x': 5.96,\n",
       " 'landsat:geometric_rmse_model_y': 4.654,\n",
       " 'landsat:geometric_rmse_verify': 5.364,\n",
       " 'landsat:image_quality_oli': 9,\n",
       " 'bbox': [49.16354, 72.27502, 51.36812, 75.67662],\n",
       " 'geometry': {'type': 'Polygon',\n",
       "  'coordinates': [[[51.33855, 72.27502],\n",
       "    [51.36812, 75.70821],\n",
       "    [49.19092, 75.67662],\n",
       "    [49.16354, 72.3964],\n",
       "    [51.33855, 72.27502]]]},\n",
       " 'date': datetime.date(2020, 6, 11),\n",
       " 'catalog_dir': ''}"
      ]
     },
     "execution_count": 12,
     "metadata": {},
     "output_type": "execute_result"
    }
   ],
   "source": [
    "ls8_item.metadata"
   ]
  },
  {
   "cell_type": "code",
   "execution_count": null,
   "metadata": {},
   "outputs": [],
   "source": [
    "cat.search('instruments')"
   ]
  },
  {
   "cell_type": "markdown",
   "metadata": {},
   "source": [
    "## SAT-SEARCH \n",
    "Trying: Search functionality over STAC APIs: https://github.com/sat-utils/sat-search/blob/master/tutorial-1.ipynb"
   ]
  },
  {
   "cell_type": "code",
   "execution_count": null,
   "metadata": {},
   "outputs": [],
   "source": [
    "URL =  \"https://earth-search.aws.element84.com/v0\"\n",
    "results = satsearch.Search.search(url=URL,\n",
    "                                bbox=[-110, 39.5, -105, 40.5],\n",
    "                               datetime='2018-02-12T00:00:00Z/2018-03-18T12:31:12Z',\n",
    "                               query=[\"eo:cloud_cover<10\"],\n",
    "                               collections=['sentinel-s2-l2a'])\n",
    "\n",
    "print('Found %s items' % results.found())                                  \n",
    "items = results.items(limit=5)\n",
    "print('Summary: %s' % items.summary())\n",
    "\n",
    "print('%s collections' % len(items._collections))\n",
    "col = items._collections[0]\n",
    "print('Collection: %s' % col)\n",
    "#for key in col.keys():\n",
    "#    print('%s: %s' % (key, col[key]))\n",
    "    \n",
    "print('\\nITEMS: ')\n",
    "for item in items:\n",
    "    print('\\nid: ',item.id)\n",
    "    print('coll: ', item.collection())\n",
    "    \n",
    "    print(\"\\nPROPERTIES:\")\n",
    "    print(item.properties.keys())\n",
    "    for key in item.properties:\n",
    "        print('%s: %s' % (key, item.properties[key]))\n",
    "    \n",
    "    print(\"\\nASSETS: \")\n",
    "    print(item.assets.keys())\n",
    "    for key in item.assets.keys():\n",
    "        print('%s: %s' % (key, item.assets[key]))\n",
    "    break #just print first\n"
   ]
  },
  {
   "cell_type": "code",
   "execution_count": null,
   "metadata": {},
   "outputs": [],
   "source": [
    "#save and load items collection to json\n",
    "items.save('test.json')\n",
    "items2 = ItemCollection.open('test.json')\n",
    "\n",
    "print(items2.summary(['date', 'id', 'eo:cloud_cover']))"
   ]
  },
  {
   "cell_type": "code",
   "execution_count": null,
   "metadata": {},
   "outputs": [],
   "source": [
    "# download a specific asset from all items and put in a directory by date in 'downloads'\n",
    "filenames = items.download('metadata', filename_template='downloads/${id}')\n",
    "print(filenames)"
   ]
  },
  {
   "cell_type": "code",
   "execution_count": null,
   "metadata": {},
   "outputs": [],
   "source": [
    "# inspect a metadata file\n",
    "input_file = 'downloads/S2B_12SXJ_20180316_1_L2A_metadata.xml'\n",
    "root = objectify.parse(input_file)\n",
    "print(etree.tostring(root))"
   ]
  },
  {
   "cell_type": "markdown",
   "metadata": {},
   "source": [
    "## INTAKE-ESM\n",
    " data cataloging utility built on top of intake, pandas, and xarray"
   ]
  },
  {
   "cell_type": "code",
   "execution_count": null,
   "metadata": {},
   "outputs": [],
   "source": [
    "col_url = \"https://raw.githubusercontent.com/NCAR/intake-esm-datastore/master/catalogs/pangeo-cmip6.json\"\n",
    "col = intake.open_esm_datastore(col_url)\n",
    "col"
   ]
  },
  {
   "cell_type": "code",
   "execution_count": null,
   "metadata": {},
   "outputs": [],
   "source": [
    "col_subset = col.search(\n",
    "         experiment_id=[\"historical\", \"ssp585\"],\n",
    "         table_id=\"Oyr\",\n",
    "         variable_id=\"o2\",\n",
    "         grid_label=\"gn\",\n",
    ")\n",
    "col_subset"
   ]
  },
  {
   "cell_type": "code",
   "execution_count": null,
   "metadata": {},
   "outputs": [],
   "source": []
  }
 ],
 "metadata": {
  "kernelspec": {
   "display_name": "Python 3 (ipykernel)",
   "language": "python",
   "name": "python3"
  },
  "language_info": {
   "codemirror_mode": {
    "name": "ipython",
    "version": 3
   },
   "file_extension": ".py",
   "mimetype": "text/x-python",
   "name": "python",
   "nbconvert_exporter": "python",
   "pygments_lexer": "ipython3",
   "version": "3.7.11"
  }
 },
 "nbformat": 4,
 "nbformat_minor": 4
}
