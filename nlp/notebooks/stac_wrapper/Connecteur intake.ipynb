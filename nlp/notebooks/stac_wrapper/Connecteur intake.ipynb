{
 "cells": [
  {
   "cell_type": "code",
   "execution_count": null,
   "metadata": {},
   "outputs": [],
   "source": [
    "# all imports for this notebook\n",
    "import intake\n",
    "import satsearch\n",
    "from satstac import ItemCollection\n",
    "from lxml import objectify, etree"
   ]
  },
  {
   "cell_type": "markdown",
   "metadata": {},
   "source": [
    "1. requete PEPS (Sentinel-Hub) avec intake-STAC"
   ]
  },
  {
   "cell_type": "code",
   "execution_count": null,
   "metadata": {},
   "outputs": [],
   "source": [
    "#Q? find catalog.json under these URLs\n",
    "sentinel_hub_catalogue = \"https://services.sentinel-hub.com/api/v1/catalog/\"\n",
    "sentinel_hub_search = \"https://services.sentinel-hub.com/api/v1/catalog/search\""
   ]
  },
  {
   "cell_type": "markdown",
   "metadata": {},
   "source": [
    "Landsat-8 example"
   ]
  },
  {
   "cell_type": "code",
   "execution_count": null,
   "metadata": {},
   "outputs": [],
   "source": [
    "landsat8_url = \"https://raw.githubusercontent.com/sat-utils/sat-stac/master/test/catalog/catalog.json\"\n",
    "cat = intake.open_stac_catalog(landsat8_url)\n",
    "list(cat)"
   ]
  },
  {
   "cell_type": "code",
   "execution_count": null,
   "metadata": {},
   "outputs": [],
   "source": [
    "cat.metadata"
   ]
  },
  {
   "cell_type": "code",
   "execution_count": null,
   "metadata": {},
   "outputs": [],
   "source": [
    "list(cat['stac-catalog-eo'])"
   ]
  },
  {
   "cell_type": "code",
   "execution_count": null,
   "metadata": {},
   "outputs": [],
   "source": [
    "ls8 = cat['stac-catalog-eo']['landsat-8-l1']\n",
    "list(ls8)"
   ]
  },
  {
   "cell_type": "code",
   "execution_count": null,
   "metadata": {},
   "outputs": [],
   "source": [
    "ls8_item = ls8['LC08_L1TP_152038_20200611_20200611_01_RT']\n",
    "list(ls8_item)"
   ]
  },
  {
   "cell_type": "code",
   "execution_count": null,
   "metadata": {},
   "outputs": [],
   "source": [
    "ls8_item.metadata"
   ]
  },
  {
   "cell_type": "code",
   "execution_count": null,
   "metadata": {},
   "outputs": [],
   "source": [
    "cat.search('instruments')"
   ]
  },
  {
   "cell_type": "markdown",
   "metadata": {},
   "source": [
    "SAT-SEARCH \n",
    "Trying: Search functionality over STAC APIs: https://github.com/sat-utils/sat-search/blob/master/tutorial-1.ipynb"
   ]
  },
  {
   "cell_type": "code",
   "execution_count": null,
   "metadata": {},
   "outputs": [],
   "source": [
    "URL =  \"https://earth-search.aws.element84.com/v0\"\n",
    "results = satsearch.Search.search(url=URL,\n",
    "                                bbox=[-110, 39.5, -105, 40.5],\n",
    "                               datetime='2018-02-12T00:00:00Z/2018-03-18T12:31:12Z',\n",
    "                               query=[\"eo:cloud_cover<10\"],\n",
    "                               collections=['sentinel-s2-l2a'])\n",
    "\n",
    "print('Found %s items' % results.found())                                  \n",
    "items = results.items(limit=5)\n",
    "print('Summary: %s' % items.summary())\n",
    "\n",
    "print('%s collections' % len(items._collections))\n",
    "col = items._collections[0]\n",
    "print('Collection: %s' % col)\n",
    "#for key in col.keys():\n",
    "#    print('%s: %s' % (key, col[key]))\n",
    "    \n",
    "print('\\nITEMS: ')\n",
    "for item in items:\n",
    "    print('\\nid: ',item.id)\n",
    "    print('coll: ', item.collection())\n",
    "    \n",
    "    print(\"\\nPROPERTIES:\")\n",
    "    print(item.properties.keys())\n",
    "    for key in item.properties:\n",
    "        print('%s: %s' % (key, item.properties[key]))\n",
    "    \n",
    "    print(\"\\nASSETS: \")\n",
    "    print(item.assets.keys())\n",
    "    for key in item.assets.keys():\n",
    "        print('%s: %s' % (key, item.assets[key]))\n",
    "    break #just print first\n"
   ]
  },
  {
   "cell_type": "code",
   "execution_count": null,
   "metadata": {},
   "outputs": [],
   "source": [
    "#save and load items collection to json\n",
    "items.save('test.json')\n",
    "items2 = ItemCollection.open('test.json')\n",
    "\n",
    "print(items2.summary(['date', 'id', 'eo:cloud_cover']))"
   ]
  },
  {
   "cell_type": "code",
   "execution_count": null,
   "metadata": {},
   "outputs": [],
   "source": [
    "# download a specific asset from all items and put in a directory by date in 'downloads'\n",
    "filenames = items.download('metadata', filename_template='downloads/${id}')\n",
    "print(filenames)"
   ]
  },
  {
   "cell_type": "code",
   "execution_count": null,
   "metadata": {},
   "outputs": [],
   "source": [
    "# inspect a metadata file\n",
    "input_file = 'downloads/S2B_12SXJ_20180316_1_L2A_metadata.xml'\n",
    "root = objectify.parse(input_file)\n",
    "print(etree.tostring(root))"
   ]
  },
  {
   "cell_type": "markdown",
   "metadata": {},
   "source": [
    "INTAKE-ESM"
   ]
  },
  {
   "cell_type": "code",
   "execution_count": null,
   "metadata": {},
   "outputs": [],
   "source": [
    "col_url = \"https://raw.githubusercontent.com/NCAR/intake-esm-datastore/master/catalogs/pangeo-cmip6.json\"\n",
    "col = intake.open_esm_datastore(col_url)\n",
    "col"
   ]
  },
  {
   "cell_type": "code",
   "execution_count": null,
   "metadata": {},
   "outputs": [],
   "source": [
    "col_subset = col.search(\n",
    "         experiment_id=[\"historical\", \"ssp585\"],\n",
    "         table_id=\"Oyr\",\n",
    "         variable_id=\"o2\",\n",
    "         grid_label=\"gn\",\n",
    ")\n",
    "col_subset"
   ]
  },
  {
   "cell_type": "code",
   "execution_count": null,
   "metadata": {},
   "outputs": [],
   "source": []
  }
 ],
 "metadata": {
  "kernelspec": {
   "display_name": "Python 3",
   "language": "python",
   "name": "python3"
  },
  "language_info": {
   "codemirror_mode": {
    "name": "ipython",
    "version": 3
   },
   "file_extension": ".py",
   "mimetype": "text/x-python",
   "name": "python",
   "nbconvert_exporter": "python",
   "pygments_lexer": "ipython3",
   "version": "3.8.5"
  }
 },
 "nbformat": 4,
 "nbformat_minor": 4
}
