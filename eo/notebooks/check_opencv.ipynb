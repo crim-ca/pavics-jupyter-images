{
 "cells": [
  {
   "cell_type": "markdown",
   "id": "0b32deed",
   "metadata": {},
   "source": [
    "# Check OpenCV Installation\n",
    "\n",
    "Validates that `opencv` is installed and available in the EO image.\n",
    "Perform a basic operation that ensures `opencv-python-headless` is sufficient for displaying images in notebooks,\n",
    "although no provided GUI support (headless, no `cv2.imshow`)."
   ]
  },
  {
   "cell_type": "code",
   "execution_count": 1,
   "id": "c159488e",
   "metadata": {
    "collapsed": false,
    "jupyter": {
     "outputs_hidden": false
    }
   },
   "outputs": [
    {
     "name": "stdout",
     "output_type": "stream",
     "text": [
      "Name: opencv-python-headless\n",
      "Version: 4.6.0.66\n",
      "Summary: Wrapper package for OpenCV python bindings.\n",
      "Home-page: https://github.com/skvark/opencv-python\n",
      "Author: \n",
      "Author-email: \n",
      "License: MIT\n",
      "Location: /opt/conda/envs/birdy/lib/python3.9/site-packages\n",
      "Requires: numpy, numpy, numpy\n",
      "Required-by: \n"
     ]
    }
   ],
   "source": [
    "!pip show opencv-python-headless"
   ]
  },
  {
   "cell_type": "code",
   "execution_count": 2,
   "id": "6cdaacbd",
   "metadata": {},
   "outputs": [
    {
     "data": {
      "image/png": "[encoded data removed]",
      "text/plain": [
       "<Figure size 640x480 with 1 Axes>"
      ]
     },
     "metadata": {},
     "output_type": "display_data"
    }
   ],
   "source": [
    "import cv2\n",
    "import matplotlib.pyplot as plt\n",
    "import numpy as np\n",
    "\n",
    "# generate an image to work with\n",
    "path = \"/tmp/check-opencv.png\"\n",
    "data = np.array(np.repeat([\n",
    "    np.arange(0, 256),\n",
    "    np.arange(0, 256),\n",
    "    np.arange(0, 256),\n",
    "], 256)).reshape((3, 256, 256)).transpose()\n",
    "# save it to test going through OpenCV functions\n",
    "cv2.imwrite(path, data)\n",
    "\n",
    "# read and display using matplotlib to avoid cv2.imshow\n",
    "img = cv2.imread(path, cv2.IMREAD_GRAYSCALE)\n",
    "plt.imshow(img)\n",
    "plt.show()\n"
   ]
  },
  {
   "cell_type": "code",
   "execution_count": null,
   "id": "004af915",
   "metadata": {},
   "outputs": [],
   "source": []
  }
 ],
 "metadata": {
  "kernelspec": {
   "display_name": "birdy",
   "language": "python",
   "name": "birdy"
  },
  "language_info": {
   "codemirror_mode": {
    "name": "ipython",
    "version": 3
   },
   "file_extension": ".py",
   "mimetype": "text/x-python",
   "name": "python",
   "nbconvert_exporter": "python",
   "pygments_lexer": "ipython3",
   "version": "3.9.7"
  }
 },
 "nbformat": 4,
 "nbformat_minor": 5
}
