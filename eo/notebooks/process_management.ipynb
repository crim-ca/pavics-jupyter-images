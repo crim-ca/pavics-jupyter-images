{
 "cells": [
  {
   "cell_type": "markdown",
   "id": "6e3a28fb",
   "metadata": {},
   "source": [
    "# Weaver Process Management Demonstration"
   ]
  },
  {
   "cell_type": "markdown",
   "id": "fae23f67",
   "metadata": {},
   "source": [
    "Weaver is primarily an Execution Management Service (EMS) that allows the execution of workflows chaining various applications and Web Processing Services inputs and outputs. Remote execution of each process in a workflow chain is dispatched by the EMS to one or many registered Application, Deployment and Execution Service (ADES) by ensuring the transfer of files accordingly between instances when located across multiple remote locations.<br/><br/>\n",
    "[Weaver Documentation](https://pavics-weaver.readthedocs.io/en/latest/)  <br/>"
   ]
  },
  {
   "cell_type": "markdown",
   "id": "897245fa",
   "metadata": {},
   "source": [
    "Weaver is based on the concept of process to be executed.\n",
    "These processes are based on [Comon Workflow Language(CWL)](https://www.commonwl.org/) in this case of demonstration.\n",
    "Here you will find all the steps to:\n",
    "1. Build the process\n",
    "2. Deploy the process on weaver\n",
    "3. Execute the process on weaver \n",
    "4. Monitor the status of a running process\n",
    "5. Access the result of an executed process"
   ]
  },
  {
   "cell_type": "markdown",
   "id": "fe0ce9e2",
   "metadata": {},
   "source": [
    "# 1. Build a process\n",
    "To build your own process, we will need some things: \n",
    "\n",
    "1. The source code for the function, module or application to be executed\n",
    "2. A dockerized environment capable of executing the source code\n",
    "3. A CWL document describing your process\n",
    "4. A definition of the inputs required for process execution"
   ]
  },
  {
   "cell_type": "markdown",
   "id": "41c52a5d",
   "metadata": {},
   "source": [
    "### 1.1 The code to be executed as a process\n",
    "\n",
    "The module to be used in this case will be a wrapper arround the [SentielSat](https://sentinelsat.readthedocs.io/en/stable/) client.\n",
    "Essentialy, all it does is take the arguments passed to the python executable and run SentinelSat execution with the arguments, but we converted it to download Geo Spatial Sentinel images.\n",
    "\n",
    "\n",
    "<br/>\n",
    "<b>Here is an exemple of execution using python</b>\n",
    "\n",
    "```shell\n",
    "python sentinelsat_wrapper.py -d --credentials <credentials_file_path> --name <image_name> \n",
    "```"
   ]
  },
  {
   "cell_type": "markdown",
   "id": "f93633f5",
   "metadata": {},
   "source": [
    "### 1.2 Dockerize our executable code\n",
    "\n",
    "For this step, we need to create a Dockerfile, which will encapsulate all the requirements and dependencies for our python code to be executed. Then we will pass the arguments needed for the code through our Docker container script. For this dockerization part to work, we will have build a Docker image converting our python executable to a docker container exectuable. </br>\n",
    "[Docker documentation for python developpement](https://docs.docker.com/language/python/)\n",
    "\n",
    "In this case we name our docker image of sentinesat_wrapper : <u>`daccs-eo-sentinelsat` </u>\n",
    "\n",
    "<b> Execution example </b></br>  \n",
    "```shell\n",
    "docker run daccs-eo-sentinelsat -d --credentials <credentials_file_path> --name <image_name> \n",
    "```\n",
    "\n",
    "As we can see the only thing that changed is that we now execute our code trought docker which contains all the needs for our code to work.\n",
    "</br></br>"
   ]
  },
  {
   "cell_type": "markdown",
   "id": "e6f644b7",
   "metadata": {},
   "source": [
    "<b> GitLab Container Registry </b>\n",
    "</br>\n",
    "\n",
    "In our case, after the docker build of the image, the docker container image is then pushed on our [Gitlab Registry](https://docs.gitlab.com/ee/user/packages/container_registry/) so that the image can be pulled as it would from the Docker Hub for example. \n",
    "The name of the image that we will use in the next steps will now becomes the url pointing to the registry holding our docker container image: \n",
    "<u>`registry.gitlab.com/crim.ca/public/daccs/daccs/daccs-eo-sentinelsat` </u>\n",
    "\n",
    "</br>\n",
    "The execution command becomes:\n",
    "\n",
    "```shell \n",
    "docker run registry.gitlab.com/crim.ca/public/daccs/daccs/daccs-eo-sentinelsat -d --credentials <credentials_file_path> --name <image_name> \n",
    "```"
   ]
  },
  {
   "cell_type": "markdown",
   "id": "737f6007",
   "metadata": {},
   "source": [
    "### 1.3 CWL document\n",
    "\n",
    "We use the application definition configuration provided by [Common Workflow Language](https://www.commonwl.org/user_guide/#common-workflow-language-user-guide) to provide a description of a process to be executed by Weaver. \n",
    "\n",
    "A CWL document serves as an interface between our module and all it needs to be executed by Weaver. \n",
    "\n",
    "\n",
    "In this CWL document, there are 3 main part:\n",
    "1. Docker requirements\n",
    "    - This is the image name or the url of the image to be pulled from a registry by Weaver\n",
    "2. Inputs\n",
    "    - These are the arguments to be passed to our docker to python code \n",
    "    - In our case : ```-d --credentials <credentials_file_path> --name <image_name>```\n",
    "3. Ouputs\n",
    "    - In this case the output is a downloaded file, so we are just going to check if the file exist\n",
    "\n",
    "All set inside a CWL yaml file : <b> sentinelsat-application.yml </b>\n",
    "\n",
    "\n",
    "```yaml\n",
    "\n",
    "#!/usr/bin/env cwl-runner\n",
    "\n",
    "class: CommandLineTool\n",
    "cwlVersion: v1.0\n",
    "\n",
    "label: Application to download a Sentinel product.\n",
    "\n",
    "# === DOCKER REQUIREMENT ===\n",
    "# The docker image to be pulled and executed as a process\n",
    "requirements:\n",
    "  DockerRequirement:\n",
    "    dockerPull: registry.gitlab.com/crim.ca/public/daccs/daccs/daccs-eo-sentinelsat:0.2.0 \n",
    "\n",
    "# === INPUTS ===\n",
    "# Default arguments\n",
    "arguments: [ \"-d\" ]\n",
    "# Inputs needed for our process\n",
    "inputs:\n",
    "  credentials: \n",
    "    type: File\n",
    "    inputBinding:\n",
    "      position: 1\n",
    "      prefix: --credentials\n",
    "  image:\n",
    "    type: string\n",
    "    inputBinding:\n",
    "      prefix: --name\n",
    "      position: 2\n",
    "\n",
    "# === OUTPUTS ===\n",
    "# Look for a downloaded .zip file in the runtime directory.\n",
    "# That way we assume the image has been downloaded.\n",
    "outputs:\n",
    "  output:\n",
    "    type: File[]\n",
    "    outputBinding:\n",
    "      glob: $(runtime.outdir)/*.zip \n",
    "      \n",
    "```"
   ]
  },
  {
   "cell_type": "markdown",
   "id": "5a7e797c",
   "metadata": {},
   "source": [
    "### 1.4. A definition of the inputs required for process execution\n",
    "\n",
    "This is a JSON like object that should contain all the inputs and information for the process to be executed.\n",
    "\n",
    "In this case it should look something like this :\n",
    "```json\n",
    "{\n",
    "  \"inputs\": [\n",
    "    {\n",
    "      \"id\": \"credentials\",\n",
    "      \"href\": f'{credentials_file_path}',\n",
    "      \"type\": 'application/json',\n",
    "    },\n",
    "    {\n",
    "      \"id\": \"image\",\n",
    "      \"data\": product,\n",
    "    }\n",
    "  ]\n",
    "}\n",
    "```"
   ]
  },
  {
   "cell_type": "markdown",
   "id": "6bfbee43",
   "metadata": {},
   "source": [
    "***\n",
    "# Weaver \n",
    "Now that we have all the components needed for Weaver to execute our code/process as a job.\n",
    "\n",
    "#### Requirements\n",
    "- Weaver >=4.30.0 \n",
    "- Installed the weaver client : https://pavics-weaver.readthedocs.io/en/latest/installation.html\n",
    "    - After the installation make sure this notebook has access to the weaver client conda environnement. "
   ]
  },
  {
   "cell_type": "markdown",
   "id": "a7564bab",
   "metadata": {},
   "source": [
    "### Weaver Definitions"
   ]
  },
  {
   "cell_type": "code",
   "execution_count": 2,
   "id": "9658802c",
   "metadata": {},
   "outputs": [],
   "source": [
    "from weaver.cli import WeaverClient\n",
    "from requests_magpie import MagpieAuth\n",
    "\n",
    "from pprint import pprint\n",
    "import requests\n",
    "import json"
   ]
  },
  {
   "cell_type": "code",
   "execution_count": null,
   "id": "3bed0a9b",
   "metadata": {},
   "outputs": [],
   "source": [
    "# Weaver setup\n",
    "WEAVER_URL = os.getenv('WEAVER_URL')\n",
    "\n",
    "# Authentication \n",
    "MAGPIE_URL = os.getenv('MAGPIE_URL')\n",
    "MAGPIE_USER = os.getenv('MAGPIE_USER')\n",
    "MAGPIE_PASS = os.getenv('MAGPIE_PASS)\n",
    "\n",
    "# Magpie Authentication\n",
    "aCMagpieAuth = MagpieAuth(MAGPIE_URL, MAGPIE_USER, MAGPIE_PASS)\n",
    "\n",
    "# Instanciate a weaver client with magpie authentication\n",
    "wclient = WeaverClient(url=WEAVER_URL, auth=aCMagpieAuth)"
   ]
  },
  {
   "cell_type": "markdown",
   "id": "8aa90709",
   "metadata": {},
   "source": [
    "### Weaver Capabilities\n",
    "This is a way for us to know which process is available on the machine pointed by the weaver client."
   ]
  },
  {
   "cell_type": "code",
   "execution_count": 4,
   "id": "6891422f",
   "metadata": {},
   "outputs": [],
   "source": [
    "def print_available_processes():\n",
    "    print('=== Available Processes ===')\n",
    "    response = wclient.capabilities()\n",
    "    processes = response.body['processes']\n",
    "    pprint(processes)"
   ]
  },
  {
   "cell_type": "code",
   "execution_count": 62,
   "id": "d5a80241",
   "metadata": {
    "scrolled": false
   },
   "outputs": [
    {
     "name": "stdout",
     "output_type": "stream",
     "text": [
      "=== Available Processes ===\n",
      "['file_index_selector',\n",
      " 'file2string_array',\n",
      " 'jsonarray2netcdf',\n",
      " 'metalink2netcdf']\n"
     ]
    }
   ],
   "source": [
    "print_available_processes()"
   ]
  },
  {
   "cell_type": "markdown",
   "id": "6e2f3b28",
   "metadata": {},
   "source": [
    "## 2. Deploy the process on Weaver\n",
    "[Deploy Documentation](https://pavics-weaver.readthedocs.io/en/latest/autoapi/weaver/cli/index.html#weaver.cli.WeaverClient.deploy)</br>\n",
    "\n",
    "This is the part where we send to Weaver our CWL process. In our case this would be the `sentinelsat_download_process.yml` file. \n",
    "\n",
    "But for educational purposes in this notebook we will use python to send it as a json like object."
   ]
  },
  {
   "cell_type": "code",
   "execution_count": 104,
   "id": "e807a75b",
   "metadata": {},
   "outputs": [],
   "source": [
    "sentinelsat_download_process_CWL = {\n",
    "  \"class\": \"CommandLineTool\",\n",
    "  \"cwlVersion\": \"v1.0\",\n",
    "  \"label\": \"Application to download a Sentinel product.\",\n",
    "  \"requirements\": {\n",
    "    \"DockerRequirement\": {\n",
    "      \"dockerPull\": \"registry.gitlab.com/crim.ca/public/daccs/daccs/daccs-eo-sentinelsat:0.2.0\"\n",
    "    }\n",
    "  },\n",
    "  \"arguments\": [\n",
    "    \"-d\"\n",
    "  ],\n",
    "  \"inputs\": {\n",
    "    \"credentials\": {\n",
    "      \"type\": \"File\",\n",
    "      \"inputBinding\": {\n",
    "        \"position\": 1,\n",
    "        \"prefix\": \"--credentials\"\n",
    "      }\n",
    "    },\n",
    "    \"image\": {\n",
    "      \"type\": \"string\",\n",
    "      \"inputBinding\": {\n",
    "        \"prefix\": \"--name\",\n",
    "        \"position\": 2\n",
    "      }\n",
    "    }\n",
    "  },\n",
    "  \"outputs\": {\n",
    "    \"output\": {\n",
    "      \"type\": \"File[]\",\n",
    "      \"outputBinding\": {\n",
    "        \"glob\": \"$(runtime.outdir)/*.zip\"\n",
    "      }\n",
    "    }\n",
    "  }\n",
    "}"
   ]
  },
  {
   "cell_type": "code",
   "execution_count": 144,
   "id": "37ae26b7",
   "metadata": {
    "scrolled": true
   },
   "outputs": [],
   "source": [
    "deploy_response = wclient.deploy(process_id='sentinelsat_download', cwl=sentinelsat_download_process_CWL)"
   ]
  },
  {
   "cell_type": "code",
   "execution_count": 106,
   "id": "13f6f3fd",
   "metadata": {
    "scrolled": true
   },
   "outputs": [
    {
     "name": "stdout",
     "output_type": "stream",
     "text": [
      "=== Available Processes ===\n",
      "['file_index_selector',\n",
      " 'file2string_array',\n",
      " 'jsonarray2netcdf',\n",
      " 'metalink2netcdf',\n",
      " 'sentinelsat_download']\n"
     ]
    }
   ],
   "source": [
    "print_available_processes()"
   ]
  },
  {
   "cell_type": "markdown",
   "id": "bf187d6c",
   "metadata": {},
   "source": [
    "## 3. Execute the process on weaver \n",
    "### Execution definition\n",
    "[Execute Documentation](https://pavics-weaver.readthedocs.io/en/latest/autoapi/weaver/cli/index.html#weaver.cli.WeaverClient.execute) </br>\n",
    "For the execution, Weaver expect a payload containing the inputs.\n",
    "Because our process is a downloader of Spatial sentinel images we will need two inputs :\n",
    "1. <b> The credentials file</b> \n",
    "\n",
    "2. <b>The name of the image to be downloaded</b>"
   ]
  },
  {
   "cell_type": "markdown",
   "id": "fa4e54d2",
   "metadata": {},
   "source": [
    "#### 1. Credential file \n",
    "Here we have to create a temporary file containing the copernicus credentials to be sent as input to our download process."
   ]
  },
  {
   "cell_type": "code",
   "execution_count": 3,
   "id": "645b6833",
   "metadata": {},
   "outputs": [
    {
     "name": "stdout",
     "output_type": "stream",
     "text": [
      " Enter your copernicus credentials here :\n",
      "\tUsername: <USER_NAME>\n",
      "\tPassword: ········\n"
     ]
    }
   ],
   "source": [
    "# Saving a temporary credentials file to be uplaoded to the weaver vault\n",
    "import tempfile\n",
    "from tempfile import NamedTemporaryFile\n",
    "from getpass import getpass\n",
    "\n",
    "\n",
    "# Getting credentials for sentinelsat process\n",
    "print(\" Enter your copernicus credentials here :\")\n",
    "credentials = {\n",
    "    \"username\": input(\"\\tUsername: \"),\n",
    "    \"password\": getpass(\"\\tPassword: \")\n",
    "}\n",
    "\n",
    "\n",
    "# Save credentials as file \n",
    "credentials_file = NamedTemporaryFile(\"w\",\n",
    "                                       encoding=\"UTF-8\",\n",
    "                                       suffix=\".json\",\n",
    "                                       dir=\"./demo/\")\n",
    "\n",
    "json.dump(credentials, credentials_file)\n",
    "credentials_file.flush()\n",
    "\n",
    "credentials_file_path = credentials_file.name"
   ]
  },
  {
   "cell_type": "markdown",
   "id": "69b9ae21",
   "metadata": {},
   "source": [
    "#### 2.  Image name  "
   ]
  },
  {
   "cell_type": "code",
   "execution_count": 131,
   "id": "2bfdefa5",
   "metadata": {},
   "outputs": [],
   "source": [
    "# Specify the image product name for the process to download\n",
    "product = 'S1A_IW_GRDH_1SDV_20230730T223634_20230730T223650_049659_05F8B3_4FE8'"
   ]
  },
  {
   "cell_type": "markdown",
   "id": "977b4d14",
   "metadata": {},
   "source": [
    "### Process Payload"
   ]
  },
  {
   "cell_type": "code",
   "execution_count": 4,
   "id": "fa4f318b",
   "metadata": {},
   "outputs": [],
   "source": [
    "# process payload containing the input\n",
    "sentinelsat_execute_payload = {\n",
    "  \"inputs\": [\n",
    "    {\n",
    "      \"id\": \"credentials\",\n",
    "      \"href\": f'{credentials_file_path}',\n",
    "      \"type\": 'application/json',\n",
    "    },\n",
    "    {\n",
    "      \"id\": \"image\",\n",
    "      \"data\": product,\n",
    "    }\n",
    "  ]\n",
    "}"
   ]
  },
  {
   "cell_type": "markdown",
   "id": "c3c4984a",
   "metadata": {},
   "source": [
    "####  Weaver Vault\n",
    "- [Uploading File to the Vault](https://pavics-weaver.readthedocs.io/en/latest/processes.html#uploading-file-to-the-vault) \n",
    "- [File Vault Inputs](https://pavics-weaver.readthedocs.io/en/latest/processes.html#file-vault-inputs)\n",
    "</br>\n",
    "\n",
    "Because credentials have to be secret and not be logged for security purposes, we will use the [Weaver Vault](https://pavics-weaver.readthedocs.io/en/latest/appendix.html#term-Vault).<br>\n",
    "Actualy Weaver will do it on its own. \n",
    "\n",
    "Essentialy what happens is that the path : `<path/to/tmp_credentials.json>` passed as `--credentials` input is converted to a `vault://<UUID>` representation for the execution. \n",
    "\n",
    "Weaver understands that file has to be pushed to its Vault, so it does. It hashes and upload the file into its Vault then it allows a single read before deleting it. The file can be open and read because Weaver use a token system where it returns the token as key to the vault to the job being executed with the vault UUID reference."
   ]
  },
  {
   "cell_type": "markdown",
   "id": "25d57b79",
   "metadata": {},
   "source": [
    "### Executing the process\n",
    "This is where we ask Weaver to execute the <b>Sentinelsat_download_process.yml</b> by giving it the payload containing the inputs conrresponding to the CWL process."
   ]
  },
  {
   "cell_type": "code",
   "execution_count": 143,
   "id": "95a3b523",
   "metadata": {},
   "outputs": [],
   "source": [
    "# Executing the download process\n",
    "execute_response = wclient.execute(process_id=\"sentinelsat_download\", inputs=sentinelsat_execute_payload)"
   ]
  },
  {
   "cell_type": "code",
   "execution_count": 134,
   "id": "1cb29505",
   "metadata": {
    "scrolled": false
   },
   "outputs": [
    {
     "name": "stdout",
     "output_type": "stream",
     "text": [
      "{'description': 'Job successfully submitted to processing queue. Execution '\n",
      "                'should begin when resources are available.',\n",
      " 'jobID': 'd0356ec3-0da7-4d7d-9caf-12159999947d',\n",
      " 'location': 'https://pavics.ouranos.ca/weaver/processes/sentinelsat_download/jobs/d0356ec3-0da7-4d7d-9caf-12159999947d',\n",
      " 'processID': 'sentinelsat_download',\n",
      " 'status': 'accepted'}\n"
     ]
    }
   ],
   "source": [
    "pprint(execute_response.body)"
   ]
  },
  {
   "cell_type": "code",
   "execution_count": 135,
   "id": "9d791182",
   "metadata": {},
   "outputs": [],
   "source": [
    "# This will delete de temporary credentials file\n",
    "credentials_file.close()"
   ]
  },
  {
   "cell_type": "markdown",
   "id": "82ac4d3a",
   "metadata": {},
   "source": [
    "#### Validation\n",
    "Let's validate the inputs passed to our execution."
   ]
  },
  {
   "cell_type": "code",
   "execution_count": 136,
   "id": "65a449b8",
   "metadata": {},
   "outputs": [],
   "source": [
    "inputs_response = requests.get(execute_response.body['location']+\"/inputs\")"
   ]
  },
  {
   "cell_type": "code",
   "execution_count": 137,
   "id": "006cd886",
   "metadata": {},
   "outputs": [
    {
     "name": "stdout",
     "output_type": "stream",
     "text": [
      "{'credentials': {'$schema': 'https://schemas.opengis.net/ogcapi/processes/part1/1.0/openapi/schemas/link.yaml',\n",
      "                 'href': 'vault://de0641b5-5689-4814-803f-5d8f364284e4',\n",
      "                 'type': 'text/plain'},\n",
      " 'image': 'S1A_IW_GRDH_1SDV_20230730T223634_20230730T223650_049659_05F8B3_4FE8'}\n"
     ]
    }
   ],
   "source": [
    "pprint(inputs_response.json()['inputs'])"
   ]
  },
  {
   "cell_type": "markdown",
   "id": "32f1950b",
   "metadata": {},
   "source": [
    "## 4. Monitor the status of a running process\n",
    "[Status Documentation](https://pavics-weaver.readthedocs.io/en/latest/autoapi/weaver/cli/index.html#weaver.cli.WeaverClient.status) <br>\n",
    "Weaver allow the user to follow the process execution."
   ]
  },
  {
   "cell_type": "code",
   "execution_count": 74,
   "id": "92d9a4ff",
   "metadata": {},
   "outputs": [
    {
     "name": "stdout",
     "output_type": "stream",
     "text": [
      "jobID : ebe9042a-2137-494a-8529-943420e8b4c1\n"
     ]
    }
   ],
   "source": [
    "jobID = execute_response.body['jobID']\n",
    "print(\"jobID :\", jobID)"
   ]
  },
  {
   "cell_type": "code",
   "execution_count": 75,
   "id": "33dee210",
   "metadata": {},
   "outputs": [],
   "source": [
    "status_response = wclient.status(job_reference=jobID)"
   ]
  },
  {
   "cell_type": "code",
   "execution_count": 141,
   "id": "c08643bc",
   "metadata": {},
   "outputs": [],
   "source": [
    "# pprint(status_response)"
   ]
  },
  {
   "cell_type": "markdown",
   "id": "2795d9f9",
   "metadata": {},
   "source": [
    "## 5. Access the result of an executed process\n",
    "[Results Documentation](https://pavics-weaver.readthedocs.io/en/latest/autoapi/weaver/cli/index.html#weaver.cli.WeaverClient.results) <br>\n",
    "Showing us the result of our process. This command also offer to user the possibility to download the output file resulting of the process by passing ```out_dir``` as argument to the ```results()``` function"
   ]
  },
  {
   "cell_type": "code",
   "execution_count": 89,
   "id": "9b9c47af",
   "metadata": {},
   "outputs": [],
   "source": [
    "result_response = wclient.results(job_reference=jobID)"
   ]
  },
  {
   "cell_type": "code",
   "execution_count": 140,
   "id": "255f77e1",
   "metadata": {
    "scrolled": false
   },
   "outputs": [
    {
     "data": {
      "text/plain": [
       "OperationResult(success=True, code=200, message=\"Listing job results.\")\n",
       "{\n",
       "  \"output\": {\n",
       "    \"href\": \"https://pavics.ouranos.ca/wpsoutputs/ebe9042a-2137-494a-8529-943420e8b4c1/output/S1A_IW_GRDH_1SDV_20230730T223634_20230730T223650_049659_05F8B3_4FE8.zip\",\n",
       "    \"type\": \"text/plain\",\n",
       "    \"format\": {\n",
       "      \"mediaType\": \"text/plain\"\n",
       "    }\n",
       "  }\n",
       "}"
      ]
     },
     "execution_count": 140,
     "metadata": {},
     "output_type": "execute_result"
    }
   ],
   "source": [
    "result_response"
   ]
  },
  {
   "cell_type": "code",
   "execution_count": 95,
   "id": "251fe719",
   "metadata": {
    "scrolled": true
   },
   "outputs": [
    {
     "name": "stdout",
     "output_type": "stream",
     "text": [
      "Path to the downloaded product: https://pavics.ouranos.ca/wpsoutputs/ebe9042a-2137-494a-8529-943420e8b4c1/output/S1A_IW_GRDH_1SDV_20230730T223634_20230730T223650_049659_05F8B3_4FE8.zip\n"
     ]
    }
   ],
   "source": [
    "# The downloaded product on the machine can be found here \n",
    "print(\"Path to the downloaded product:\",result_response.body['output']['href'])"
   ]
  },
  {
   "cell_type": "markdown",
   "id": "2e3c9918",
   "metadata": {},
   "source": [
    "## Undeploy\n",
    "[Undeploy Documentation](https://pavics-weaver.readthedocs.io/en/latest/autoapi/weaver/cli/index.html#weaver.cli.WeaverClient.undeploy)</br>\n",
    "\n",
    "This method is used in case you need to undeploy the process for. </br>\n",
    "Simply specify the `process_id`."
   ]
  },
  {
   "cell_type": "code",
   "execution_count": 96,
   "id": "be96c56a",
   "metadata": {},
   "outputs": [
    {
     "data": {
      "text/plain": [
       "OperationResult(success=True, code=200, message=\"Process successfully undeployed.\")\n",
       "{\n",
       "  \"description\": \"Process successfully undeployed.\",\n",
       "  \"identifier\": \"sentinelsat_download\",\n",
       "  \"undeploymentDone\": true\n",
       "}"
      ]
     },
     "execution_count": 96,
     "metadata": {},
     "output_type": "execute_result"
    }
   ],
   "source": [
    "wclient.undeploy(process_id=\"sentinelsat_download\")"
   ]
  },
  {
   "cell_type": "code",
   "execution_count": 97,
   "id": "4f2230a8",
   "metadata": {
    "scrolled": false
   },
   "outputs": [
    {
     "name": "stdout",
     "output_type": "stream",
     "text": [
      "=== Available Processes ===\n",
      "['file_index_selector',\n",
      " 'file2string_array',\n",
      " 'jsonarray2netcdf',\n",
      " 'metalink2netcdf']\n"
     ]
    }
   ],
   "source": [
    "print_available_processes()"
   ]
  }
 ],
 "metadata": {
  "kernelspec": {
   "display_name": "Python [conda env:.conda-weaver]",
   "language": "python",
   "name": "conda-env-.conda-weaver-py"
  },
  "language_info": {
   "codemirror_mode": {
    "name": "ipython",
    "version": 3
   },
   "file_extension": ".py",
   "mimetype": "text/x-python",
   "name": "python",
   "nbconvert_exporter": "python",
   "pygments_lexer": "ipython3",
   "version": "3.11.4"
  }
 },
 "nbformat": 4,
 "nbformat_minor": 5
}
